{
 "cells": [
  {
   "cell_type": "markdown",
   "id": "6991a73f-c61a-4132-98b0-6e918649046b",
   "metadata": {
    "tags": []
   },
   "source": [
    "## Relaxed Implementation of Hungarian Algorithm"
   ]
  },
  {
   "cell_type": "markdown",
   "id": "ffbad057-b252-4579-b587-665538bd7276",
   "metadata": {},
   "source": [
    "This implementation allows different number of clusters and matches the clusters which are most similar. "
   ]
  },
  {
   "cell_type": "code",
   "execution_count": 30,
   "id": "6fbb8fea-a98a-4fe3-b29b-01f1039cffa8",
   "metadata": {},
   "outputs": [],
   "source": [
    "import os\n",
    "import numpy as np\n",
    "import cv2\n",
    "import argparse\n",
    "import matplotlib.pyplot as plt\n",
    "from sklearn.cluster import KMeans\n",
    "from scipy.optimize import linear_sum_assignment"
   ]
  },
  {
   "cell_type": "code",
   "execution_count": 31,
   "id": "eb79a24c-f3e9-4dfd-ae28-beff86d1c746",
   "metadata": {},
   "outputs": [],
   "source": [
    "def plot_image(img, label, label2, no_clusters, name):\n",
    "    figure_size = 15\n",
    "    plt.figure(figsize=(figure_size,figure_size))\n",
    "    plt.subplot(1,3,1),plt.imshow(img)\n",
    "    plt.title('Original Image'), plt.xticks([]), plt.yticks([])\n",
    "    plt.subplot(1,3,2),plt.imshow(label)\n",
    "    plt.title('Segmented Image when number of clusters = %i' % \\\n",
    "              no_clusters), plt.xticks([]), plt.yticks([])\n",
    "    plt.subplot(1,3,3),plt.imshow(label2)\n",
    "    plt.title('Segmented Image when number of clusters = %i' % \\\n",
    "              no_clusters), plt.xticks([]), plt.yticks([])\n",
    "    plt.tight_layout()\n",
    "    plt.savefig(name+'.png')\n",
    "    plt.close()"
   ]
  },
  {
   "cell_type": "code",
   "execution_count": 32,
   "id": "c26fd883-c762-4509-9724-77eaf99703c8",
   "metadata": {},
   "outputs": [],
   "source": [
    "def findIntersect(I2, clusterIDsB, tupelA_I, tupel):\n",
    "    nA_I = len(tupelA_I)  # number of elements in cluster I\n",
    "    tupelB_I = tupel[clusterIDsB == I2]\n",
    "    nB_I = len(tupelB_I)\n",
    "    nTupelIntersect = len(np.intersect1d(tupelA_I, tupelB_I))\n",
    "\n",
    "    return ((nA_I - nTupelIntersect) + (nB_I - nTupelIntersect))\n"
   ]
  },
  {
   "cell_type": "code",
   "execution_count": 36,
   "id": "cfdc0493-2db6-4ea8-962e-d70748314e42",
   "metadata": {},
   "outputs": [],
   "source": [
    "def minWeightBipartiteMatching(clusteringA, clusteringB):\n",
    "    idsA = np.unique(clusteringA)\n",
    "    idsB = np.unique(clusteringB)\n",
    "    # number of instances\n",
    "    nA = len(clusteringA)\n",
    "    nB = len(clusteringB)\n",
    "    \n",
    "    if (nA != nB):\n",
    "        print(\"Number of instances do not match\")\n",
    "        return None\n",
    "        \n",
    "    nC = len(idsA)\n",
    "    nC2 = len(idsB)\n",
    "    tupel = np.arange(nA)\n",
    "    assignmentMatrix = -1*np.ones((nC, nC2))\n",
    "    for I in idsA:\n",
    "        \n",
    "        tupelClusterI = tupel[clusteringA==I]\n",
    "        solRowI = [findIntersect(I2, clusteringB, tupelClusterI, tupel) for I2 in idsB]\n",
    "        assignmentMatrix[I, ] = solRowI\n",
    "    row_ind, col_ind = linear_sum_assignment(assignmentMatrix)\n",
    "    return row_ind, col_ind, assignmentMatrix"
   ]
  },
  {
   "cell_type": "code",
   "execution_count": 37,
   "id": "a46f9f67-ca19-4845-81e4-5290243dc88c",
   "metadata": {},
   "outputs": [],
   "source": [
    "def main(image_name, factor, no_clusters, no_clusters2, attempts):\n",
    "\n",
    "    cv2img = cv2.imread(image_name)\n",
    "    resized_image = cv2.resize(cv2img, (round(cv2img.shape[1]/factor), round(cv2img.shape[0]/factor))) \n",
    "    img = cv2.cvtColor(cv2img, cv2.COLOR_BGR2RGB)\n",
    "    vectorized = np.float32(resized_image.reshape((-1,3)))\n",
    "\n",
    "    criteria = (cv2.TERM_CRITERIA_EPS + cv2.TERM_CRITERIA_MAX_ITER, 10, 1.0)\n",
    "\n",
    "    ret,label,center=cv2.kmeans(vectorized,no_clusters,None,criteria,attempts,cv2.KMEANS_PP_CENTERS)\n",
    "    label_image = label.reshape((round(img.shape[0]/factor), round(img.shape[1]/factor)))\n",
    "\n",
    "    ret2,label2,center2=cv2.kmeans(vectorized,no_clusters2,None,criteria,attempts,cv2.KMEANS_PP_CENTERS)\n",
    "    label_image2 = label2.reshape((round(img.shape[0]/factor), round(img.shape[1]/factor)))\n",
    "\n",
    "    plot_image(img, label_image, label_image2, no_clusters, name = 'before_hungarian')\n",
    "\n",
    "    row_ind, col_ind, cost_matrix = minWeightBipartiteMatching(np.array(label_image.reshape(-1)), \\\n",
    "                           np.array(label_image2.reshape(-1)))\n",
    "\n",
    "    new_image = np.zeros((label_image.shape[0],label_image.shape[1])) \n",
    "    new_image2 = np.zeros((label_image2.shape[0],label_image2.shape[1])) \n",
    "\n",
    "    for r, c in zip(row_ind, col_ind):\n",
    "        new_image2[label_image2==c] = r\n",
    "        new_image[label_image==r] = r\n",
    "\n",
    "    plot_image(img, new_image, new_image2, no_clusters, name = 'after_hungarian')\n"
   ]
  },
  {
   "cell_type": "code",
   "execution_count": 38,
   "id": "3fcff6d4-0faa-44a6-84d2-9a30c6904b4d",
   "metadata": {},
   "outputs": [],
   "source": [
    "factor = 5\n",
    "no_clusters = 4\n",
    "no_clusters2 = 3\n",
    "attempts = 10\n",
    "\n",
    "main(\"poggies.JPG\", factor, no_clusters, no_clusters2, attempts)"
   ]
  },
  {
   "cell_type": "code",
   "execution_count": null,
   "id": "854f4497-9dcd-498c-acb7-bd6aa87b69a9",
   "metadata": {},
   "outputs": [],
   "source": []
  }
 ],
 "metadata": {
  "kernelspec": {
   "display_name": "Python 3",
   "language": "python",
   "name": "python3"
  },
  "language_info": {
   "codemirror_mode": {
    "name": "ipython",
    "version": 3
   },
   "file_extension": ".py",
   "mimetype": "text/x-python",
   "name": "python",
   "nbconvert_exporter": "python",
   "pygments_lexer": "ipython3",
   "version": "3.7.2"
  }
 },
 "nbformat": 4,
 "nbformat_minor": 5
}
