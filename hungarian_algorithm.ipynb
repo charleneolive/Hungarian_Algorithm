{
 "cells": [
  {
   "cell_type": "code",
   "execution_count": 163,
   "id": "6fbb8fea-a98a-4fe3-b29b-01f1039cffa8",
   "metadata": {},
   "outputs": [],
   "source": [
    "import os\n",
    "import numpy as np\n",
    "import cv2\n",
    "import argparse\n",
    "import matplotlib.pyplot as plt\n",
    "from sklearn.cluster import KMeans\n",
    "from scipy.optimize import linear_sum_assignment"
   ]
  },
  {
   "cell_type": "markdown",
   "id": "3792cb29-d887-43bd-abba-71534a4e2c6f",
   "metadata": {},
   "source": [
    "```\n",
    "bibtex\n",
    "https://things-about-r.tumblr.com/post/36087795708/matching-clustering-solutions-using-the-hungarian\n",
    "https://www.kdnuggets.com/2019/08/introduction-image-segmentation-k-means-clustering.html\n",
    "\n",
    "Poggies image from: https://makeameme.org/meme/lachlanpoggies-me-i\n",
    "\n",
    "```"
   ]
  },
  {
   "cell_type": "code",
   "execution_count": 164,
   "id": "eb79a24c-f3e9-4dfd-ae28-beff86d1c746",
   "metadata": {},
   "outputs": [],
   "source": [
    "def plot_image(img, label, label2, no_clusters, name):\n",
    "    figure_size = 15\n",
    "    plt.figure(figsize=(figure_size,figure_size))\n",
    "    plt.subplot(1,3,1),plt.imshow(img)\n",
    "    plt.title('Original Image'), plt.xticks([]), plt.yticks([])\n",
    "    plt.subplot(1,3,2),plt.imshow(label)\n",
    "    plt.title('Segmented Image when number of clusters = %i' % \\\n",
    "              no_clusters), plt.xticks([]), plt.yticks([])\n",
    "    plt.subplot(1,3,3),plt.imshow(label2)\n",
    "    plt.title('Segmented Image when number of clusters = %i' % \\\n",
    "              no_clusters), plt.xticks([]), plt.yticks([])\n",
    "    plt.tight_layout()\n",
    "    plt.savefig(name+'.png')\n",
    "    plt.close()"
   ]
  },
  {
   "cell_type": "code",
   "execution_count": 165,
   "id": "c26fd883-c762-4509-9724-77eaf99703c8",
   "metadata": {},
   "outputs": [],
   "source": [
    "def findIntersect(I2, clusterIDsB, tupelA_I, tupel):\n",
    "    nA_I = len(tupelA_I)  # number of elements in cluster I\n",
    "    tupelB_I = tupel[clusterIDsB == I2]\n",
    "    nB_I = len(tupelB_I)\n",
    "    nTupelIntersect = len(np.intersect1d(tupelA_I, tupelB_I))\n",
    "\n",
    "    return ((nA_I - nTupelIntersect) + (nB_I - nTupelIntersect))\n"
   ]
  },
  {
   "cell_type": "code",
   "execution_count": 166,
   "id": "cfdc0493-2db6-4ea8-962e-d70748314e42",
   "metadata": {},
   "outputs": [],
   "source": [
    "def minWeightBipartiteMatching(clusteringA, clusteringB):\n",
    "    idsA = np.unique(clusteringA)\n",
    "    idsB = np.unique(clusteringB)\n",
    "    \n",
    "    # number of instances\n",
    "    nA = len(clusteringA)\n",
    "    nB = len(clusteringB)\n",
    "    if (len(idsA) != len(idsB)) | (nA != nB):\n",
    "        print(\"number of cluster or number of instances do not match\")\n",
    "        return None\n",
    "        \n",
    "    nC = len(idsA)\n",
    "    tupel = np.arange(nA)\n",
    "    assignmentMatrix = -1*np.ones((nC, nC))\n",
    "    for I in range(nC):\n",
    "        \n",
    "        tupelClusterI = tupel[clusteringA==I]\n",
    "        solRowI = [findIntersect(I2, clusteringB, tupelClusterI, tupel) for I2 in range(nC)]\n",
    "        assignmentMatrix[I, ] = solRowI\n",
    "        \n",
    "    row_ind, col_ind = linear_sum_assignment(assignmentMatrix)\n",
    "    return row_ind, col_ind, assignmentMatrix"
   ]
  },
  {
   "cell_type": "code",
   "execution_count": 167,
   "id": "a46f9f67-ca19-4845-81e4-5290243dc88c",
   "metadata": {},
   "outputs": [],
   "source": [
    "def main(image_name, factor, no_clusters, attempts):\n",
    "    \n",
    "    cv2img = cv2.imread(image_name)\n",
    "    resized_image = cv2.resize(cv2img, (round(cv2img.shape[1]/factor), round(cv2img.shape[0]/factor))) \n",
    "    img = cv2.cvtColor(cv2img, cv2.COLOR_BGR2RGB)\n",
    "    vectorized = np.float32(resized_image.reshape((-1,3)))\n",
    "\n",
    "    criteria = (cv2.TERM_CRITERIA_EPS + cv2.TERM_CRITERIA_MAX_ITER, 10, 1.0)\n",
    "\n",
    "    ret,label,center=cv2.kmeans(vectorized,no_clusters,None,criteria,attempts,cv2.KMEANS_PP_CENTERS)\n",
    "    label_image = label.reshape((round(img.shape[0]/factor), round(img.shape[1]/factor)))\n",
    "\n",
    "    ret2,label2,center2=cv2.kmeans(vectorized,no_clusters,None,criteria,attempts,cv2.KMEANS_PP_CENTERS)\n",
    "    label_image2 = label2.reshape((round(img.shape[0]/factor), round(img.shape[1]/factor)))\n",
    "\n",
    "    plot_image(img, label_image, label_image2, no_clusters, name = 'before_hungarian')\n",
    "    \n",
    "    row_ind, col_ind, cost_matrix = minWeightBipartiteMatching(np.array(label_image.reshape(-1)), \\\n",
    "                           np.array(label_image2.reshape(-1)))\n",
    "    \n",
    "    new_image = label_image2.copy()\n",
    "\n",
    "    for r, c in zip(row_ind, col_ind):\n",
    "        new_image[label_image2==c] = r\n",
    "        \n",
    "    plot_image(img, label_image, new_image, no_clusters, name = 'after_hungarian')\n"
   ]
  },
  {
   "cell_type": "code",
   "execution_count": 168,
   "id": "3fcff6d4-0faa-44a6-84d2-9a30c6904b4d",
   "metadata": {},
   "outputs": [],
   "source": [
    "factor = 5\n",
    "no_clusters = 4\n",
    "attempts = 10\n",
    "\n",
    "main(\"poggies.JPG\", factor, no_clusters, attempts)"
   ]
  },
  {
   "cell_type": "code",
   "execution_count": null,
   "id": "5326b397-1918-4daf-b6b6-7cfcfe97bcf0",
   "metadata": {},
   "outputs": [],
   "source": []
  }
 ],
 "metadata": {
  "kernelspec": {
   "display_name": "Python 3",
   "language": "python",
   "name": "python3"
  },
  "language_info": {
   "codemirror_mode": {
    "name": "ipython",
    "version": 3
   },
   "file_extension": ".py",
   "mimetype": "text/x-python",
   "name": "python",
   "nbconvert_exporter": "python",
   "pygments_lexer": "ipython3",
   "version": "3.7.2"
  }
 },
 "nbformat": 4,
 "nbformat_minor": 5
}
